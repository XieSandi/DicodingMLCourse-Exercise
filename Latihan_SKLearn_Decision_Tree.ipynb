{
  "nbformat": 4,
  "nbformat_minor": 0,
  "metadata": {
    "colab": {
      "name": "Latihan SKLearn Decision Tree.ipynb",
      "provenance": [],
      "authorship_tag": "ABX9TyNktUkG1GLjDMhDkzdE3lot",
      "include_colab_link": true
    },
    "kernelspec": {
      "name": "python3",
      "display_name": "Python 3"
    },
    "language_info": {
      "name": "python"
    }
  },
  "cells": [
    {
      "cell_type": "markdown",
      "metadata": {
        "id": "view-in-github",
        "colab_type": "text"
      },
      "source": [
        "<a href=\"https://colab.research.google.com/github/XieSandi/DicodingMLCourse-Exercise/blob/main/Latihan_SKLearn_Decision_Tree.ipynb\" target=\"_parent\"><img src=\"https://colab.research.google.com/assets/colab-badge.svg\" alt=\"Open In Colab\"/></a>"
      ]
    },
    {
      "cell_type": "code",
      "metadata": {
        "id": "Gbk3oBnG1Qac"
      },
      "source": [
        "import pandas as pd\n",
        "from sklearn.datasets import load_iris\n",
        "\n",
        "#memanggil data \n",
        "iris = pd.read_csv('Iris.csv')\n",
        "\n",
        "#menampilkan data\n",
        "iris.head()\n",
        "\n",
        "#penghapusan kolom tidak penting\n",
        "iris.drop('Id',axis=1,inplace=True)"
      ],
      "execution_count": 15,
      "outputs": []
    }
  ]
}