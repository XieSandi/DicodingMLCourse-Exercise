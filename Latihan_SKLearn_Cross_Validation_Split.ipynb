{
  "nbformat": 4,
  "nbformat_minor": 0,
  "metadata": {
    "colab": {
      "name": "Latihan SKLearn Cross Validation Split.ipynb",
      "provenance": [],
      "authorship_tag": "ABX9TyOwYK/D0K2yeA/wmTDlze/i",
      "include_colab_link": true
    },
    "kernelspec": {
      "name": "python3",
      "display_name": "Python 3"
    },
    "language_info": {
      "name": "python"
    }
  },
  "cells": [
    {
      "cell_type": "markdown",
      "metadata": {
        "id": "view-in-github",
        "colab_type": "text"
      },
      "source": [
        "<a href=\"https://colab.research.google.com/github/XieSandi/DicodingMLCourse-Exercise/blob/main/Latihan_SKLearn_Cross_Validation_Split.ipynb\" target=\"_parent\"><img src=\"https://colab.research.google.com/assets/colab-badge.svg\" alt=\"Open In Colab\"/></a>"
      ]
    },
    {
      "cell_type": "code",
      "metadata": {
        "colab": {
          "base_uri": "https://localhost:8080/"
        },
        "id": "MtHwMmvfaW6O",
        "outputId": "c3932b5f-a6b5-4e74-c79c-5e0e0ca0875c"
      },
      "source": [
        "import sklearn\n",
        "from sklearn import datasets\n",
        " \n",
        "# Load iris dataset\n",
        "iris = datasets.load_iris()\n",
        "\n",
        "# mendefinisikan atribut dan label pada dataset\n",
        "x=iris.data\n",
        "y=iris.target\n",
        "\n",
        "from sklearn import tree\n",
        " \n",
        "# membuat model dengan decision tree ckassifier\n",
        "clf = tree.DecisionTreeClassifier()\n",
        "\n",
        "from sklearn.model_selection import cross_val_score\n",
        " \n",
        "# mengevaluasi performa model dengan cross_val_score\n",
        "scores = cross_val_score(clf, x, y, cv=5)\n",
        "\n",
        "scores"
      ],
      "execution_count": 4,
      "outputs": [
        {
          "output_type": "execute_result",
          "data": {
            "text/plain": [
              "array([0.96666667, 0.96666667, 0.9       , 0.96666667, 1.        ])"
            ]
          },
          "metadata": {
            "tags": []
          },
          "execution_count": 4
        }
      ]
    }
  ]
}