{
  "nbformat": 4,
  "nbformat_minor": 0,
  "metadata": {
    "colab": {
      "name": " rock paper scissors.ipynb",
      "provenance": [],
      "authorship_tag": "ABX9TyPKdffyzk7Jf0pqyYVcbE3s",
      "include_colab_link": true
    },
    "kernelspec": {
      "name": "python3",
      "display_name": "Python 3"
    },
    "language_info": {
      "name": "python"
    }
  },
  "cells": [
    {
      "cell_type": "markdown",
      "metadata": {
        "id": "view-in-github",
        "colab_type": "text"
      },
      "source": [
        "<a href=\"https://colab.research.google.com/github/XieSandi/DicodingMLCourse-Exercise/blob/main/rock_paper_scissors.ipynb\" target=\"_parent\"><img src=\"https://colab.research.google.com/assets/colab-badge.svg\" alt=\"Open In Colab\"/></a>"
      ]
    },
    {
      "cell_type": "code",
      "metadata": {
        "id": "Y19SSynJIFuP"
      },
      "source": [
        "import tensorflow as tf"
      ],
      "execution_count": null,
      "outputs": []
    },
    {
      "cell_type": "code",
      "metadata": {
        "id": "c06bcshOI81R"
      },
      "source": [
        "!wget --no-check-certificate \\\n",
        "  https://dicodingacademy.blob.core.windows.net/picodiploma/ml_pemula_academy/rockpaperscissors.zip \\\n",
        "  -O /tmp/rockpaperscissors.zip"
      ],
      "execution_count": null,
      "outputs": []
    },
    {
      "cell_type": "code",
      "metadata": {
        "id": "Ya75BD5vKPgB"
      },
      "source": [
        "import zipfile,os,shutil\n",
        "local_zip = '/tmp/rockpaperscissors.zip'\n",
        "zip_ref = zipfile.ZipFile(local_zip, 'r')\n",
        "zip_ref.extractall('/tmp')\n",
        "zip_ref.close()"
      ],
      "execution_count": null,
      "outputs": []
    },
    {
      "cell_type": "code",
      "metadata": {
        "id": "6HzJL21DRnvy"
      },
      "source": [
        "#Moving Folder\n",
        "shutil.move(\"path/to/current/file.foo\", \"path/to/new/destination/for/file.foo\")\n",
        "\n",
        "#Renaming folder"
      ],
      "execution_count": null,
      "outputs": []
    },
    {
      "cell_type": "code",
      "metadata": {
        "id": "BbnIkn82NHX-"
      },
      "source": [
        "base_train_dir = '/tmp/rockpaperscissors'\n",
        "base_validation_dir ='/tmp/rockpaperscissors/rps-cv-images'"
      ],
      "execution_count": null,
      "outputs": []
    },
    {
      "cell_type": "code",
      "metadata": {
        "id": "j_qZrKm5NWj_"
      },
      "source": [
        "# training\n",
        "train_paper_dir = os.path.join(base_train_dir, 'paper')\n",
        "train_rock_dir = os.path.join(base_train_dir, 'rock')\n",
        "train_scissor_dir = os.path.join(base_train_dir, 'scissor')\n",
        " \n",
        "#validating\n",
        "validation_paper_dir = os.path.join(base_validation_dir, 'paper')\n",
        "validation_rock_dir = os.path.join(base_validation_dir, 'rock')\n",
        "validation_scissor_dir = os.path.join(base_validation_dir, 'scissor')"
      ],
      "execution_count": null,
      "outputs": []
    },
    {
      "cell_type": "code",
      "metadata": {
        "id": "FWVoGHIUO1Fn"
      },
      "source": [
        "from tensorflow.keras.preprocessing.image import ImageDataGenerator\n",
        " \n",
        "train_datagen = ImageDataGenerator(\n",
        "                    rescale=1./255,\n",
        "                    rotation_range=20,\n",
        "                    horizontal_flip=True,\n",
        "                    shear_range = 0.2,\n",
        "                    fill_mode = 'nearest')\n",
        " \n",
        "test_datagen = ImageDataGenerator(\n",
        "                    rescale=1./255,\n",
        "                    rotation_range=20,\n",
        "                    horizontal_flip=True,\n",
        "                    shear_range = 0.2,\n",
        "                    fill_mode = 'nearest')"
      ],
      "execution_count": null,
      "outputs": []
    },
    {
      "cell_type": "code",
      "metadata": {
        "id": "0PPbywqFPHkR"
      },
      "source": [
        "train_generator = train_datagen.flow_from_directory(\n",
        "        base_train_dir,  # direktori data latih\n",
        "        target_size=(150, 150),\n",
        "        batch_size=4,\n",
        "        # karena kita merupakan masalah klasifikasi 2 kelas maka menggunakan class_mode = 'binary'\n",
        "        class_mode='categorical')\n",
        " \n",
        "validation_generator = test_datagen.flow_from_directory(\n",
        "        base_validation_dir,\n",
        "        target_size=(150, 150),\n",
        "        batch_size=4,\n",
        "        class_mode='categorical')"
      ],
      "execution_count": null,
      "outputs": []
    }
  ]
}