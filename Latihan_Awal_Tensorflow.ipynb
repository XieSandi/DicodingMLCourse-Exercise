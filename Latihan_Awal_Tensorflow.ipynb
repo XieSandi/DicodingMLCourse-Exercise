{
  "nbformat": 4,
  "nbformat_minor": 0,
  "metadata": {
    "colab": {
      "name": "Latihan Awal Tensorflow.ipynb",
      "provenance": [],
      "authorship_tag": "ABX9TyMlWi6h9qEkBpMW0huBDsOV",
      "include_colab_link": true
    },
    "kernelspec": {
      "name": "python3",
      "display_name": "Python 3"
    },
    "language_info": {
      "name": "python"
    }
  },
  "cells": [
    {
      "cell_type": "markdown",
      "metadata": {
        "id": "view-in-github",
        "colab_type": "text"
      },
      "source": [
        "<a href=\"https://colab.research.google.com/github/XieSandi/DicodingMLCourse-Exercise/blob/main/Latihan_Awal_Tensorflow.ipynb\" target=\"_parent\"><img src=\"https://colab.research.google.com/assets/colab-badge.svg\" alt=\"Open In Colab\"/></a>"
      ]
    },
    {
      "cell_type": "code",
      "metadata": {
        "colab": {
          "base_uri": "https://localhost:8080/"
        },
        "id": "5Vjo-jDVABLN",
        "outputId": "69c6ce90-5134-4bc1-a4d7-bcfeaa4d1747"
      },
      "source": [
        "import tensorflow as tf\n",
        "print(tf.__version__)"
      ],
      "execution_count": 17,
      "outputs": [
        {
          "output_type": "stream",
          "text": [
            "2.4.1\n"
          ],
          "name": "stdout"
        }
      ]
    },
    {
      "cell_type": "code",
      "metadata": {
        "colab": {
          "base_uri": "https://localhost:8080/"
        },
        "id": "jCSmKIqTESXO",
        "outputId": "6fa02152-e610-405b-f523-20c27827f499"
      },
      "source": [
        "!wget --no-check-certificate \\\n",
        "  https://dicodingacademy.blob.core.windows.net/picodiploma/ml_pemula_academy/messy-vs-clean-room.zip \\\n",
        "  -O /tmp/messy_vs_clean_room.zip"
      ],
      "execution_count": 18,
      "outputs": [
        {
          "output_type": "stream",
          "text": [
            "--2021-04-10 18:47:50--  https://dicodingacademy.blob.core.windows.net/picodiploma/ml_pemula_academy/messy-vs-clean-room.zip\n",
            "Resolving dicodingacademy.blob.core.windows.net (dicodingacademy.blob.core.windows.net)... 52.239.197.36\n",
            "Connecting to dicodingacademy.blob.core.windows.net (dicodingacademy.blob.core.windows.net)|52.239.197.36|:443... connected.\n",
            "HTTP request sent, awaiting response... 200 OK\n",
            "Length: 70392746 (67M) [application/zip]\n",
            "Saving to: ‘/tmp/messy_vs_clean_room.zip’\n",
            "\n",
            "/tmp/messy_vs_clean 100%[===================>]  67.13M  2.71MB/s    in 38s     \n",
            "\n",
            "2021-04-10 18:48:29 (1.76 MB/s) - ‘/tmp/messy_vs_clean_room.zip’ saved [70392746/70392746]\n",
            "\n"
          ],
          "name": "stdout"
        }
      ]
    },
    {
      "cell_type": "code",
      "metadata": {
        "id": "yroD6MKKEaoF"
      },
      "source": [
        "# melakukan ekstraksi pada file zip\n",
        "import zipfile,os\n",
        "local_zip = '/tmp/messy_vs_clean_room.zip'\n",
        "zip_ref = zipfile.ZipFile(local_zip, 'r')\n",
        "zip_ref.extractall('/tmp')\n",
        "zip_ref.close()\n",
        " \n",
        "base_dir = '/tmp/images'\n",
        "train_dir = os.path.join(base_dir, 'train')\n",
        "validation_dir = os.path.join(base_dir, 'val')"
      ],
      "execution_count": 19,
      "outputs": []
    },
    {
      "cell_type": "code",
      "metadata": {
        "colab": {
          "base_uri": "https://localhost:8080/"
        },
        "id": "VpDiu6YTEfoj",
        "outputId": "df55ade5-d1f1-44b0-8d09-7df3c69b6f79"
      },
      "source": [
        "os.listdir('/tmp/images/train')"
      ],
      "execution_count": 20,
      "outputs": [
        {
          "output_type": "execute_result",
          "data": {
            "text/plain": [
              "['messy', 'clean']"
            ]
          },
          "metadata": {
            "tags": []
          },
          "execution_count": 20
        }
      ]
    },
    {
      "cell_type": "code",
      "metadata": {
        "colab": {
          "base_uri": "https://localhost:8080/"
        },
        "id": "l2fxcXrNEgQn",
        "outputId": "c8f48840-c826-438a-9bd1-09637852f463"
      },
      "source": [
        "os.listdir('/tmp/images/val')\n"
      ],
      "execution_count": 21,
      "outputs": [
        {
          "output_type": "execute_result",
          "data": {
            "text/plain": [
              "['messy', 'clean']"
            ]
          },
          "metadata": {
            "tags": []
          },
          "execution_count": 21
        }
      ]
    },
    {
      "cell_type": "code",
      "metadata": {
        "id": "zfNYfv5REmJR"
      },
      "source": [
        "# membuat direktori ruangan rapi pada direktori data training\n",
        "train_clean_dir = os.path.join(train_dir, 'clean')\n",
        " \n",
        "# membuat direktori ruangan berantakan pada direktori data training\n",
        "train_messy_dir = os.path.join(train_dir, 'messy')\n",
        " \n",
        "# membuat direktori ruangan rapi pada direktori data validasi\n",
        "validation_clean_dir = os.path.join(validation_dir, 'clean')\n",
        " \n",
        "# membuat direktori ruangan berantakan pada direktori data validasi\n",
        "validation_messy_dir = os.path.join(validation_dir, 'messy')"
      ],
      "execution_count": 22,
      "outputs": []
    },
    {
      "cell_type": "code",
      "metadata": {
        "id": "RbJ-zGG8EooX"
      },
      "source": [
        "from tensorflow.keras.preprocessing.image import ImageDataGenerator\n",
        " \n",
        "train_datagen = ImageDataGenerator(\n",
        "                    rescale=1./255,\n",
        "                    rotation_range=20,\n",
        "                    horizontal_flip=True,\n",
        "                    shear_range = 0.2,\n",
        "                    fill_mode = 'nearest')\n",
        " \n",
        "test_datagen = ImageDataGenerator(\n",
        "                    rescale=1./255,\n",
        "                    rotation_range=20,\n",
        "                    horizontal_flip=True,\n",
        "                    shear_range = 0.2,\n",
        "                    fill_mode = 'nearest')"
      ],
      "execution_count": 23,
      "outputs": []
    },
    {
      "cell_type": "code",
      "metadata": {
        "colab": {
          "base_uri": "https://localhost:8080/"
        },
        "id": "MLRx5mvGGe07",
        "outputId": "7f4b3c26-67a2-4000-f08d-ccfc6224f30f"
      },
      "source": [
        "train_generator = train_datagen.flow_from_directory(\n",
        "        train_dir,  # direktori data latih\n",
        "        target_size=(150, 150),  # mengubah resolusi seluruh gambar menjadi 150x150 piksel\n",
        "        batch_size=4,\n",
        "        # karena kita merupakan masalah klasifikasi 2 kelas maka menggunakan class_mode = 'binary'\n",
        "        class_mode='binary')\n",
        " \n",
        "validation_generator = test_datagen.flow_from_directory(\n",
        "        validation_dir, # direktori data validasi\n",
        "        target_size=(150, 150), # mengubah resolusi seluruh gambar menjadi 150x150 piksel\n",
        "        batch_size=4, # karena kita merupakan masalah klasifikasi 2 kelas maka menggunakan class_mode = 'binary'\n",
        "        class_mode='binary')"
      ],
      "execution_count": 24,
      "outputs": [
        {
          "output_type": "stream",
          "text": [
            "Found 192 images belonging to 2 classes.\n",
            "Found 20 images belonging to 2 classes.\n"
          ],
          "name": "stdout"
        }
      ]
    },
    {
      "cell_type": "code",
      "metadata": {
        "id": "rMfw6Sa9EtdS"
      },
      "source": [
        "model = tf.keras.models.Sequential([\n",
        "    tf.keras.layers.Conv2D(32, (3,3), activation='relu', input_shape=(150, 150, 3)),\n",
        "    tf.keras.layers.MaxPooling2D(2, 2),\n",
        "    tf.keras.layers.Conv2D(64, (3,3), activation='relu'),\n",
        "    tf.keras.layers.MaxPooling2D(2,2),\n",
        "    tf.keras.layers.Conv2D(128, (3,3), activation='relu'),\n",
        "    tf.keras.layers.MaxPooling2D(2,2),\n",
        "    tf.keras.layers.Conv2D(128, (3,3), activation='relu'),\n",
        "    tf.keras.layers.MaxPooling2D(2,2),\n",
        "    tf.keras.layers.Flatten(),\n",
        "    tf.keras.layers.Dense(512, activation='relu'),\n",
        "    tf.keras.layers.Dense(1, activation='sigmoid')\n",
        "])"
      ],
      "execution_count": 25,
      "outputs": []
    },
    {
      "cell_type": "code",
      "metadata": {
        "colab": {
          "base_uri": "https://localhost:8080/"
        },
        "id": "WmCNjOZ7Ex8v",
        "outputId": "e15ff7ae-94d5-412c-e93f-cfd6fc5e9ab5"
      },
      "source": [
        "# compile model dengan 'adam' optimizer loss function 'binary_crossentropy' \n",
        "model.compile(loss='binary_crossentropy',\n",
        "              optimizer=tf.optimizers.Adam(),\n",
        "              metrics=['accuracy'])\n",
        "\n",
        "# latih model dengan model.fit \n",
        "model.fit(\n",
        "      train_generator,\n",
        "      steps_per_epoch=25,  # berapa batch yang akan dieksekusi pada setiap epoch\n",
        "      epochs=20, # tambahkan eposchs jika akurasi model belum optimal\n",
        "      validation_data=validation_generator, # menampilkan akurasi pengujian data validasi\n",
        "      validation_steps=5,  # berapa batch yang akan dieksekusi pada setiap epoch\n",
        "      verbose=2)"
      ],
      "execution_count": 26,
      "outputs": [
        {
          "output_type": "stream",
          "text": [
            "Epoch 1/20\n",
            "25/25 - 6s - loss: 0.7360 - accuracy: 0.5000 - val_loss: 0.7213 - val_accuracy: 0.5000\n",
            "Epoch 2/20\n",
            "25/25 - 5s - loss: 0.6979 - accuracy: 0.5300 - val_loss: 0.6928 - val_accuracy: 0.5000\n",
            "Epoch 3/20\n",
            "25/25 - 5s - loss: 0.6940 - accuracy: 0.5300 - val_loss: 0.6888 - val_accuracy: 0.5000\n",
            "Epoch 4/20\n",
            "25/25 - 5s - loss: 0.6787 - accuracy: 0.5600 - val_loss: 0.6920 - val_accuracy: 0.5000\n",
            "Epoch 5/20\n",
            "25/25 - 5s - loss: 0.6921 - accuracy: 0.5500 - val_loss: 0.6680 - val_accuracy: 0.5000\n",
            "Epoch 6/20\n",
            "25/25 - 5s - loss: 0.6813 - accuracy: 0.6300 - val_loss: 0.6776 - val_accuracy: 0.6500\n",
            "Epoch 7/20\n",
            "25/25 - 5s - loss: 0.6216 - accuracy: 0.6800 - val_loss: 0.6019 - val_accuracy: 0.7000\n",
            "Epoch 8/20\n",
            "25/25 - 5s - loss: 0.6348 - accuracy: 0.6900 - val_loss: 0.5755 - val_accuracy: 0.7500\n",
            "Epoch 9/20\n",
            "25/25 - 5s - loss: 0.6982 - accuracy: 0.5500 - val_loss: 0.6836 - val_accuracy: 0.7000\n",
            "Epoch 10/20\n",
            "25/25 - 5s - loss: 0.6684 - accuracy: 0.6200 - val_loss: 0.6376 - val_accuracy: 0.6000\n",
            "Epoch 11/20\n",
            "25/25 - 5s - loss: 0.6099 - accuracy: 0.6600 - val_loss: 0.5572 - val_accuracy: 0.7500\n",
            "Epoch 12/20\n",
            "25/25 - 5s - loss: 0.6003 - accuracy: 0.7500 - val_loss: 0.6045 - val_accuracy: 0.6500\n",
            "Epoch 13/20\n",
            "25/25 - 5s - loss: 0.5968 - accuracy: 0.7300 - val_loss: 0.5382 - val_accuracy: 0.7500\n",
            "Epoch 14/20\n",
            "25/25 - 5s - loss: 0.5474 - accuracy: 0.7700 - val_loss: 0.5589 - val_accuracy: 0.7000\n",
            "Epoch 15/20\n",
            "25/25 - 5s - loss: 0.5811 - accuracy: 0.7400 - val_loss: 0.6024 - val_accuracy: 0.7500\n",
            "Epoch 16/20\n",
            "25/25 - 5s - loss: 0.5449 - accuracy: 0.7400 - val_loss: 0.7227 - val_accuracy: 0.6500\n",
            "Epoch 17/20\n",
            "25/25 - 5s - loss: 0.5491 - accuracy: 0.7200 - val_loss: 0.8173 - val_accuracy: 0.7000\n",
            "Epoch 18/20\n",
            "25/25 - 5s - loss: 0.5895 - accuracy: 0.6400 - val_loss: 0.6780 - val_accuracy: 0.5000\n",
            "Epoch 19/20\n",
            "25/25 - 5s - loss: 0.6456 - accuracy: 0.6000 - val_loss: 0.5810 - val_accuracy: 0.8000\n",
            "Epoch 20/20\n",
            "25/25 - 5s - loss: 0.5734 - accuracy: 0.7500 - val_loss: 0.6571 - val_accuracy: 0.6500\n"
          ],
          "name": "stdout"
        },
        {
          "output_type": "execute_result",
          "data": {
            "text/plain": [
              "<tensorflow.python.keras.callbacks.History at 0x7face6eaba50>"
            ]
          },
          "metadata": {
            "tags": []
          },
          "execution_count": 26
        }
      ]
    },
    {
      "cell_type": "code",
      "metadata": {
        "id": "FNTu718QH4qA"
      },
      "source": [
        ""
      ],
      "execution_count": null,
      "outputs": []
    }
  ]
}