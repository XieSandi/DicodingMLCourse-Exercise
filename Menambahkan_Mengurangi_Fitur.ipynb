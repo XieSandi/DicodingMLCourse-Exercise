{
  "nbformat": 4,
  "nbformat_minor": 0,
  "metadata": {
    "colab": {
      "name": "Menambahkan/Mengurangi Fitur.ipynb",
      "provenance": [],
      "authorship_tag": "ABX9TyN4IDxzokskbPa/dGg9Ztfu",
      "include_colab_link": true
    },
    "kernelspec": {
      "name": "python3",
      "display_name": "Python 3"
    },
    "language_info": {
      "name": "python"
    }
  },
  "cells": [
    {
      "cell_type": "markdown",
      "metadata": {
        "id": "view-in-github",
        "colab_type": "text"
      },
      "source": [
        "<a href=\"https://colab.research.google.com/github/XieSandi/DicodingMLCourse-Exercise/blob/main/Menambahkan_Mengurangi_Fitur.ipynb\" target=\"_parent\"><img src=\"https://colab.research.google.com/assets/colab-badge.svg\" alt=\"Open In Colab\"/></a>"
      ]
    },
    {
      "cell_type": "code",
      "metadata": {
        "colab": {
          "base_uri": "https://localhost:8080/"
        },
        "id": "ynV6Vag9_PBT",
        "outputId": "0752a39d-1938-49e1-84ee-13ecfe557d8c"
      },
      "source": [
        "import pandas as pd \n",
        " \n",
        "Developer = pd.DataFrame({'Name': ['Isyana Saraswati', 'Nicholas Saputra', 'Raisa Andriana'], \n",
        "        'Age':[30, 36, 32]}) \n",
        "print(\"Machine Learning Developer di Indonesia :\\n\", Developer) \n",
        " \n",
        "Developer[['First','Last']] = Developer.Name.str.split(expand=True) \n",
        "print(\"\\n Split kolom 'Name', lalu tambahkan kedua kolom : \\n\", Developer)"
      ],
      "execution_count": 8,
      "outputs": [
        {
          "output_type": "stream",
          "text": [
            "Machine Learning Developer di Indonesia :\n",
            "                Name  Age\n",
            "0  Isyana Saraswati   30\n",
            "1  Nicholas Saputra   36\n",
            "2    Raisa Andriana   32\n",
            "\n",
            " Split kolom 'Name', lalu tambahkan kedua kolom : \n",
            "                Name  Age     First       Last\n",
            "0  Isyana Saraswati   30    Isyana  Saraswati\n",
            "1  Nicholas Saputra   36  Nicholas    Saputra\n",
            "2    Raisa Andriana   32     Raisa   Andriana\n"
          ],
          "name": "stdout"
        }
      ]
    }
  ]
}